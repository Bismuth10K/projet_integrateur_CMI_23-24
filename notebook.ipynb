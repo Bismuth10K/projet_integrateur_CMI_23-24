{
 "cells": [
  {
   "cell_type": "markdown",
   "metadata": {},
   "source": [
    "# Projet de transport optimal CMI 2023/2024\n",
    "\n",
    "L'objectif de ce projet est de travailler autour de la recolorisation d'une image à l'aide du transport optimal. \n",
    "\n",
    "Ce travail se divise en trois étapes différentes : \n",
    "* Recolorisation d'une vidéo à partir d'une image référence. Chaque image de la vidéo sera recolorisée par la même image cible. \n",
    "* Recolorisation d'une vidéo à partir d'une image référence. Cette fois-ci, l'hypothèse de dépendance des images d'une même vidéo sera considérée et la recolorisation des images se fera donc en fonction. \n",
    "* Modification du style d'une image via des réseaux de neurones convolutionnels (optionnel). \n"
   ]
  },
  {
   "cell_type": "markdown",
   "metadata": {},
   "source": [
    "### Library à importer/utiliser"
   ]
  },
  {
   "cell_type": "code",
   "execution_count": 1,
   "metadata": {
    "execution": {
     "iopub.execute_input": "2024-01-13T13:05:04.392532Z",
     "iopub.status.busy": "2024-01-13T13:05:04.392176Z",
     "iopub.status.idle": "2024-01-13T13:05:18.542560Z",
     "shell.execute_reply": "2024-01-13T13:05:18.541364Z",
     "shell.execute_reply.started": "2024-01-13T13:05:04.392501Z"
    }
   },
   "outputs": [
    {
     "name": "stdout",
     "output_type": "stream",
     "text": [
      "Requirement already satisfied: POT in c:\\users\\victo\\anaconda3\\lib\\site-packages (0.9.3)\n",
      "Requirement already satisfied: numpy>=1.16 in c:\\users\\victo\\anaconda3\\lib\\site-packages (from POT) (1.24.3)\n",
      "Requirement already satisfied: scipy>=1.6 in c:\\users\\victo\\anaconda3\\lib\\site-packages (from POT) (1.11.1)\n",
      "Note: you may need to restart the kernel to use updated packages.\n",
      "^C\n",
      "Note: you may need to restart the kernel to use updated packages.\n",
      "Requirement already satisfied: tensorflow in c:\\users\\victo\\anaconda3\\lib\\site-packages (2.15.0)\n",
      "Requirement already satisfied: tensorflow-intel==2.15.0 in c:\\users\\victo\\anaconda3\\lib\\site-packages (from tensorflow) (2.15.0)\n",
      "Requirement already satisfied: absl-py>=1.0.0 in c:\\users\\victo\\anaconda3\\lib\\site-packages (from tensorflow-intel==2.15.0->tensorflow) (2.0.0)\n",
      "Requirement already satisfied: astunparse>=1.6.0 in c:\\users\\victo\\anaconda3\\lib\\site-packages (from tensorflow-intel==2.15.0->tensorflow) (1.6.3)\n",
      "Requirement already satisfied: flatbuffers>=23.5.26 in c:\\users\\victo\\anaconda3\\lib\\site-packages (from tensorflow-intel==2.15.0->tensorflow) (23.5.26)\n",
      "Requirement already satisfied: gast!=0.5.0,!=0.5.1,!=0.5.2,>=0.2.1 in c:\\users\\victo\\anaconda3\\lib\\site-packages (from tensorflow-intel==2.15.0->tensorflow) (0.5.4)\n",
      "Requirement already satisfied: google-pasta>=0.1.1 in c:\\users\\victo\\anaconda3\\lib\\site-packages (from tensorflow-intel==2.15.0->tensorflow) (0.2.0)\n",
      "Requirement already satisfied: h5py>=2.9.0 in c:\\users\\victo\\anaconda3\\lib\\site-packages (from tensorflow-intel==2.15.0->tensorflow) (3.9.0)\n",
      "Requirement already satisfied: libclang>=13.0.0 in c:\\users\\victo\\anaconda3\\lib\\site-packages (from tensorflow-intel==2.15.0->tensorflow) (16.0.6)\n",
      "Requirement already satisfied: ml-dtypes~=0.2.0 in c:\\users\\victo\\anaconda3\\lib\\site-packages (from tensorflow-intel==2.15.0->tensorflow) (0.2.0)\n",
      "Requirement already satisfied: numpy<2.0.0,>=1.23.5 in c:\\users\\victo\\anaconda3\\lib\\site-packages (from tensorflow-intel==2.15.0->tensorflow) (1.24.3)\n",
      "Requirement already satisfied: opt-einsum>=2.3.2 in c:\\users\\victo\\anaconda3\\lib\\site-packages (from tensorflow-intel==2.15.0->tensorflow) (3.3.0)\n",
      "Requirement already satisfied: packaging in c:\\users\\victo\\anaconda3\\lib\\site-packages (from tensorflow-intel==2.15.0->tensorflow) (23.1)\n",
      "Requirement already satisfied: protobuf!=4.21.0,!=4.21.1,!=4.21.2,!=4.21.3,!=4.21.4,!=4.21.5,<5.0.0dev,>=3.20.3 in c:\\users\\victo\\anaconda3\\lib\\site-packages (from tensorflow-intel==2.15.0->tensorflow) (4.23.4)\n",
      "Requirement already satisfied: setuptools in c:\\users\\victo\\anaconda3\\lib\\site-packages (from tensorflow-intel==2.15.0->tensorflow) (68.0.0)\n",
      "Requirement already satisfied: six>=1.12.0 in c:\\users\\victo\\anaconda3\\lib\\site-packages (from tensorflow-intel==2.15.0->tensorflow) (1.16.0)\n",
      "Requirement already satisfied: termcolor>=1.1.0 in c:\\users\\victo\\anaconda3\\lib\\site-packages (from tensorflow-intel==2.15.0->tensorflow) (2.4.0)\n",
      "Requirement already satisfied: typing-extensions>=3.6.6 in c:\\users\\victo\\anaconda3\\lib\\site-packages (from tensorflow-intel==2.15.0->tensorflow) (4.7.1)\n",
      "Requirement already satisfied: wrapt<1.15,>=1.11.0 in c:\\users\\victo\\anaconda3\\lib\\site-packages (from tensorflow-intel==2.15.0->tensorflow) (1.14.1)\n",
      "Requirement already satisfied: tensorflow-io-gcs-filesystem>=0.23.1 in c:\\users\\victo\\anaconda3\\lib\\site-packages (from tensorflow-intel==2.15.0->tensorflow) (0.31.0)\n",
      "Requirement already satisfied: grpcio<2.0,>=1.24.3 in c:\\users\\victo\\anaconda3\\lib\\site-packages (from tensorflow-intel==2.15.0->tensorflow) (1.60.0)\n",
      "Requirement already satisfied: tensorboard<2.16,>=2.15 in c:\\users\\victo\\anaconda3\\lib\\site-packages (from tensorflow-intel==2.15.0->tensorflow) (2.15.1)\n",
      "Requirement already satisfied: tensorflow-estimator<2.16,>=2.15.0 in c:\\users\\victo\\anaconda3\\lib\\site-packages (from tensorflow-intel==2.15.0->tensorflow) (2.15.0)\n",
      "Requirement already satisfied: keras<2.16,>=2.15.0 in c:\\users\\victo\\anaconda3\\lib\\site-packages (from tensorflow-intel==2.15.0->tensorflow) (2.15.0)\n",
      "Requirement already satisfied: wheel<1.0,>=0.23.0 in c:\\users\\victo\\anaconda3\\lib\\site-packages (from astunparse>=1.6.0->tensorflow-intel==2.15.0->tensorflow) (0.38.4)\n",
      "Requirement already satisfied: google-auth<3,>=1.6.3 in c:\\users\\victo\\anaconda3\\lib\\site-packages (from tensorboard<2.16,>=2.15->tensorflow-intel==2.15.0->tensorflow) (2.26.2)\n",
      "Requirement already satisfied: google-auth-oauthlib<2,>=0.5 in c:\\users\\victo\\anaconda3\\lib\\site-packages (from tensorboard<2.16,>=2.15->tensorflow-intel==2.15.0->tensorflow) (1.2.0)\n",
      "Requirement already satisfied: markdown>=2.6.8 in c:\\users\\victo\\anaconda3\\lib\\site-packages (from tensorboard<2.16,>=2.15->tensorflow-intel==2.15.0->tensorflow) (3.4.1)\n",
      "Requirement already satisfied: requests<3,>=2.21.0 in c:\\users\\victo\\anaconda3\\lib\\site-packages (from tensorboard<2.16,>=2.15->tensorflow-intel==2.15.0->tensorflow) (2.31.0)\n",
      "Requirement already satisfied: tensorboard-data-server<0.8.0,>=0.7.0 in c:\\users\\victo\\anaconda3\\lib\\site-packages (from tensorboard<2.16,>=2.15->tensorflow-intel==2.15.0->tensorflow) (0.7.2)\n",
      "Requirement already satisfied: werkzeug>=1.0.1 in c:\\users\\victo\\anaconda3\\lib\\site-packages (from tensorboard<2.16,>=2.15->tensorflow-intel==2.15.0->tensorflow) (2.2.3)\n",
      "Requirement already satisfied: cachetools<6.0,>=2.0.0 in c:\\users\\victo\\anaconda3\\lib\\site-packages (from google-auth<3,>=1.6.3->tensorboard<2.16,>=2.15->tensorflow-intel==2.15.0->tensorflow) (5.3.2)\n",
      "Requirement already satisfied: pyasn1-modules>=0.2.1 in c:\\users\\victo\\anaconda3\\lib\\site-packages (from google-auth<3,>=1.6.3->tensorboard<2.16,>=2.15->tensorflow-intel==2.15.0->tensorflow) (0.2.8)\n",
      "Requirement already satisfied: rsa<5,>=3.1.4 in c:\\users\\victo\\anaconda3\\lib\\site-packages (from google-auth<3,>=1.6.3->tensorboard<2.16,>=2.15->tensorflow-intel==2.15.0->tensorflow) (4.9)\n",
      "Requirement already satisfied: requests-oauthlib>=0.7.0 in c:\\users\\victo\\anaconda3\\lib\\site-packages (from google-auth-oauthlib<2,>=0.5->tensorboard<2.16,>=2.15->tensorflow-intel==2.15.0->tensorflow) (1.3.1)\n",
      "Requirement already satisfied: charset-normalizer<4,>=2 in c:\\users\\victo\\anaconda3\\lib\\site-packages (from requests<3,>=2.21.0->tensorboard<2.16,>=2.15->tensorflow-intel==2.15.0->tensorflow) (2.0.4)\n",
      "Requirement already satisfied: idna<4,>=2.5 in c:\\users\\victo\\anaconda3\\lib\\site-packages (from requests<3,>=2.21.0->tensorboard<2.16,>=2.15->tensorflow-intel==2.15.0->tensorflow) (3.4)\n",
      "Requirement already satisfied: urllib3<3,>=1.21.1 in c:\\users\\victo\\anaconda3\\lib\\site-packages (from requests<3,>=2.21.0->tensorboard<2.16,>=2.15->tensorflow-intel==2.15.0->tensorflow) (1.26.16)\n",
      "Requirement already satisfied: certifi>=2017.4.17 in c:\\users\\victo\\anaconda3\\lib\\site-packages (from requests<3,>=2.21.0->tensorboard<2.16,>=2.15->tensorflow-intel==2.15.0->tensorflow) (2023.7.22)\n",
      "Requirement already satisfied: MarkupSafe>=2.1.1 in c:\\users\\victo\\anaconda3\\lib\\site-packages (from werkzeug>=1.0.1->tensorboard<2.16,>=2.15->tensorflow-intel==2.15.0->tensorflow) (2.1.1)\n",
      "Requirement already satisfied: pyasn1<0.5.0,>=0.4.6 in c:\\users\\victo\\anaconda3\\lib\\site-packages (from pyasn1-modules>=0.2.1->google-auth<3,>=1.6.3->tensorboard<2.16,>=2.15->tensorflow-intel==2.15.0->tensorflow) (0.4.8)\n",
      "Requirement already satisfied: oauthlib>=3.0.0 in c:\\users\\victo\\anaconda3\\lib\\site-packages (from requests-oauthlib>=0.7.0->google-auth-oauthlib<2,>=0.5->tensorboard<2.16,>=2.15->tensorflow-intel==2.15.0->tensorflow) (3.2.2)\n",
      "^C\n",
      "Note: you may need to restart the kernel to use updated packages.\n"
     ]
    }
   ],
   "source": [
    "%pip install POT\n",
    "%pip install tensorflow\n",
    "%pip install opencv-python"
   ]
  },
  {
   "cell_type": "code",
   "execution_count": null,
   "metadata": {
    "execution": {
     "iopub.execute_input": "2024-01-13T13:06:09.005612Z",
     "iopub.status.busy": "2024-01-13T13:06:09.005189Z",
     "iopub.status.idle": "2024-01-13T13:06:25.970292Z",
     "shell.execute_reply": "2024-01-13T13:06:25.969139Z",
     "shell.execute_reply.started": "2024-01-13T13:06:09.005574Z"
    }
   },
   "outputs": [
    {
     "name": "stdout",
     "output_type": "stream",
     "text": [
      "Requirement already satisfied: opencv-python in c:\\users\\victo\\anaconda3\\lib\\site-packages (4.9.0.80)\n",
      "Requirement already satisfied: numpy>=1.21.2 in c:\\users\\victo\\anaconda3\\lib\\site-packages (from opencv-python) (1.24.3)\n",
      "WARNING:tensorflow:From C:\\Users\\victo\\anaconda3\\Lib\\site-packages\\keras\\src\\losses.py:2976: The name tf.losses.sparse_softmax_cross_entropy is deprecated. Please use tf.compat.v1.losses.sparse_softmax_cross_entropy instead.\n",
      "\n"
     ]
    }
   ],
   "source": [
    "import numpy as np\n",
    "from matplotlib import pyplot as plt\n",
    "import ot\n",
    "from tensorflow.python.ops.numpy_ops import np_config\n",
    "import cv2\n",
    "import os\n",
    "\n",
    "rng = np.random.RandomState(1)"
   ]
  },
  {
   "cell_type": "markdown",
   "metadata": {},
   "source": [
    "### Fonctions de traitement de l'image"
   ]
  },
  {
   "cell_type": "code",
   "execution_count": null,
   "metadata": {
    "execution": {
     "iopub.execute_input": "2024-01-13T13:06:25.974277Z",
     "iopub.status.busy": "2024-01-13T13:06:25.973071Z",
     "iopub.status.idle": "2024-01-13T13:06:25.981717Z",
     "shell.execute_reply": "2024-01-13T13:06:25.980581Z",
     "shell.execute_reply.started": "2024-01-13T13:06:25.974228Z"
    }
   },
   "outputs": [],
   "source": [
    "def im2mat(img):\n",
    "    \"\"\"\n",
    "    Convertie une image en matrice (un pixel par ligne)\n",
    "    Entrée: - img(matrix): Image que l'on cherche à transformer en matrice\n",
    "    Sortie: Matrice obtenue après le reshape\n",
    "    \"\"\"\n",
    "    return img.reshape((img.shape[0] * img.shape[1], img.shape[2]))\n",
    "\n",
    "\n",
    "def mat2im(X, shape):\n",
    "    \"\"\"\n",
    "    Convertie une matrice en image\n",
    "    Entrées: - X(matrice): Matrice que l'on veut convertir en image\n",
    "             - shape(list): Dimensions de l'image attendue\n",
    "    Sortie: Image obtenue\n",
    "    \"\"\"\n",
    "    return X.reshape(shape)"
   ]
  },
  {
   "cell_type": "markdown",
   "metadata": {},
   "source": [
    "### Image référence"
   ]
  },
  {
   "cell_type": "code",
   "execution_count": null,
   "metadata": {
    "execution": {
     "iopub.execute_input": "2024-01-13T13:06:47.687473Z",
     "iopub.status.busy": "2024-01-13T13:06:47.686235Z",
     "iopub.status.idle": "2024-01-13T13:06:47.695644Z",
     "shell.execute_reply": "2024-01-13T13:06:47.693833Z",
     "shell.execute_reply.started": "2024-01-13T13:06:47.687421Z"
    }
   },
   "outputs": [],
   "source": [
    "def import_image(path):\n",
    "    \"\"\"\n",
    "    Importe une image et récupère sa matrice\n",
    "    Entrée: - path(str): Chemin de l'image\n",
    "    Sorties: - img(matrix): Image obtenue\n",
    "             - mat(matrix): Matrice de l'image\n",
    "    \"\"\"\n",
    "    img = plt.imread(path).astype(np.float64)/256\n",
    "    mat = im2mat(img)\n",
    "    return img, mat\n",
    "\n",
    "def print_image(img, title):\n",
    "    \"\"\"\n",
    "    Affiche l'image dans l'API utilisée\n",
    "    Entrées: - img(matrix): Image à afficher\n",
    "             - title(str): Titre de l'image \n",
    "    \"\"\"\n",
    "    plt.imshow(img)\n",
    "    plt.axis('off')\n",
    "    plt.title(title)\n",
    "    "
   ]
  },
  {
   "cell_type": "code",
   "execution_count": null,
   "metadata": {
    "execution": {
     "iopub.execute_input": "2024-01-13T13:07:04.959583Z",
     "iopub.status.busy": "2024-01-13T13:07:04.959159Z",
     "iopub.status.idle": "2024-01-13T13:07:06.129606Z",
     "shell.execute_reply": "2024-01-13T13:07:06.128759Z",
     "shell.execute_reply.started": "2024-01-13T13:07:04.959548Z"
    }
   },
   "outputs": [],
   "source": [
    "path_ref = './picture_city.jpg'\n",
    "img_ref, mat_ref = import_image(path_ref)\n",
    "\n",
    "print_image(img_ref, \"Image référence\")"
   ]
  },
  {
   "cell_type": "markdown",
   "metadata": {},
   "source": [
    "### Vidéo étudiée"
   ]
  },
  {
   "cell_type": "code",
   "execution_count": null,
   "metadata": {
    "execution": {
     "iopub.execute_input": "2024-01-13T13:10:15.132214Z",
     "iopub.status.busy": "2024-01-13T13:10:15.131448Z",
     "iopub.status.idle": "2024-01-13T13:10:18.063743Z",
     "shell.execute_reply": "2024-01-13T13:10:18.062609Z",
     "shell.execute_reply.started": "2024-01-13T13:10:15.132164Z"
    }
   },
   "outputs": [],
   "source": [
    "def extract_frames(path):\n",
    "    \"\"\"\n",
    "    Récupère les images d'une vidéo\n",
    "    \"\"\"\n",
    "    cap = cv2.VideoCapture(video_path)\n",
    "    frames = []\n",
    "\n",
    "    while True:\n",
    "        ret, frame = cap.read()\n",
    "        if not ret:\n",
    "            break\n",
    "        frame_rgb = cv2.cvtColor(frame, cv2.COLOR_BGR2RGB) # récupère les images en RGB\n",
    "        frames.append(frame_rgb)\n",
    "\n",
    "    cap.release() # libère cap\n",
    "\n",
    "    return frames\n",
    "\n",
    "video_path = './video_city.mp4'\n",
    "frames = extract_frames(video_path)\n",
    "\n",
    "if frames is not None:\n",
    "    print(f\"Number of frames extracted: {len(frames)}\")\n",
    "else:\n",
    "    print(\"Error extracting frames.\")"
   ]
  },
  {
   "cell_type": "code",
   "execution_count": null,
   "metadata": {
    "execution": {
     "iopub.execute_input": "2024-01-13T13:10:49.970187Z",
     "iopub.status.busy": "2024-01-13T13:10:49.969765Z",
     "iopub.status.idle": "2024-01-13T13:10:50.611968Z",
     "shell.execute_reply": "2024-01-13T13:10:50.610883Z",
     "shell.execute_reply.started": "2024-01-13T13:10:49.970156Z"
    }
   },
   "outputs": [],
   "source": [
    "print_image(frames[0], 'Image 0')"
   ]
  },
  {
   "cell_type": "code",
   "execution_count": null,
   "metadata": {
    "execution": {
     "iopub.execute_input": "2024-01-13T13:11:01.982655Z",
     "iopub.status.busy": "2024-01-13T13:11:01.982267Z",
     "iopub.status.idle": "2024-01-13T13:11:02.622949Z",
     "shell.execute_reply": "2024-01-13T13:11:02.621934Z",
     "shell.execute_reply.started": "2024-01-13T13:11:01.982623Z"
    }
   },
   "outputs": [],
   "source": [
    "print_image(frames[100], 'Image 100')"
   ]
  },
  {
   "cell_type": "code",
   "execution_count": null,
   "metadata": {
    "execution": {
     "iopub.execute_input": "2024-01-13T13:11:11.287413Z",
     "iopub.status.busy": "2024-01-13T13:11:11.287036Z",
     "iopub.status.idle": "2024-01-13T13:11:11.937994Z",
     "shell.execute_reply": "2024-01-13T13:11:11.936855Z",
     "shell.execute_reply.started": "2024-01-13T13:11:11.287384Z"
    }
   },
   "outputs": [],
   "source": [
    "print_image(frames[200], 'Image 200')"
   ]
  },
  {
   "cell_type": "markdown",
   "metadata": {},
   "source": [
    "## Generate data\n",
    "\n"
   ]
  },
  {
   "cell_type": "code",
   "execution_count": null,
   "metadata": {
    "execution": {
     "iopub.execute_input": "2024-01-13T13:12:09.560308Z",
     "iopub.status.busy": "2024-01-13T13:12:09.559872Z",
     "iopub.status.idle": "2024-01-13T13:12:09.591563Z",
     "shell.execute_reply": "2024-01-13T13:12:09.590353Z",
     "shell.execute_reply.started": "2024-01-13T13:12:09.560271Z"
    }
   },
   "outputs": [],
   "source": [
    "# training samples\n",
    "nb = 500\n",
    "X1 = im2mat(frames[0].astype(np.float64)/256)\n",
    "X2 = mat_ref\n",
    "idx1 = rng.randint(X1.shape[0], size=(nb,))\n",
    "idx2 = rng.randint(X2.shape[0], size=(nb,))\n",
    "\n",
    "Xs = X1[idx1, :]\n",
    "Xt = X2[idx2, :]"
   ]
  },
  {
   "cell_type": "markdown",
   "metadata": {},
   "source": [
    "## Domain adaptation for pixel distribution transfer\n",
    "\n"
   ]
  },
  {
   "cell_type": "code",
   "execution_count": null,
   "metadata": {
    "execution": {
     "iopub.execute_input": "2024-01-13T13:12:14.256369Z",
     "iopub.status.busy": "2024-01-13T13:12:14.255454Z",
     "iopub.status.idle": "2024-01-13T13:12:20.850182Z",
     "shell.execute_reply": "2024-01-13T13:12:20.848731Z",
     "shell.execute_reply.started": "2024-01-13T13:12:14.256333Z"
    }
   },
   "outputs": [],
   "source": [
    "# EMDTransport\n",
    "ot_emd = ot.da.EMDTransport()\n",
    "ot_emd.fit(Xs=Xs, Xt=Xt)\n",
    "transp_Xs_emd = ot_emd.transform(Xs=X1)\n",
    "Image_emd = minmax(mat2im(transp_Xs_emd, frames[0].shape))\n",
    "\n",
    "\n",
    "# SinkhornTransport\n",
    "ot_sinkhorn = ot.da.SinkhornTransport(reg_e=1e-1)\n",
    "ot_sinkhorn.fit(Xs=Xs, Xt=Xt)\n",
    "transp_Xs_sinkhorn = ot_sinkhorn.transform(Xs=X1)\n",
    "Image_sinkhorn = minmax(mat2im(transp_Xs_sinkhorn, frames[0].shape))\n",
    "\n",
    "ot_mapping_linear = ot.da.MappingTransport(\n",
    "    mu=1e0, eta=1e-8, bias=True, max_iter=20, verbose=True)\n",
    "ot_mapping_linear.fit(Xs=Xs, Xt=Xt)\n",
    "\n",
    "X1tl = ot_mapping_linear.transform(Xs=X1)\n",
    "Image_mapping_linear = minmax(mat2im(X1tl, frames[0].shape))\n",
    "\n",
    "ot_mapping_gaussian = ot.da.MappingTransport(\n",
    "    mu=1e0, eta=1e-2, sigma=1, bias=False, max_iter=10, verbose=True)\n",
    "ot_mapping_gaussian.fit(Xs=Xs, Xt=Xt)\n",
    "\n",
    "X1tn = ot_mapping_gaussian.transform(Xs=X1)  # use the estimated mapping\n",
    "Image_mapping_gaussian = minmax(mat2im(X1tn, frames[0].shape))\n"
   ]
  },
  {
   "cell_type": "markdown",
   "metadata": {},
   "source": [
    "### Plot original images\n",
    "\n"
   ]
  },
  {
   "cell_type": "code",
   "execution_count": null,
   "metadata": {
    "execution": {
     "iopub.execute_input": "2023-12-30T09:39:49.324361Z",
     "iopub.status.busy": "2023-12-30T09:39:49.323902Z",
     "iopub.status.idle": "2023-12-30T09:39:55.096778Z",
     "shell.execute_reply": "2023-12-30T09:39:55.095364Z",
     "shell.execute_reply.started": "2023-12-30T09:39:49.324324Z"
    }
   },
   "outputs": [],
   "source": [
    "plt.figure(1, figsize=(6.4, 3))\n",
    "plt.subplot(1, 2, 1)\n",
    "plt.imshow(frames[0])\n",
    "plt.axis('off')\n",
    "plt.title('Image 1')\n",
    "\n",
    "plt.subplot(1, 2, 2)\n",
    "plt.imshow(img_ref)\n",
    "plt.axis('off')\n",
    "plt.title('Image 2')\n",
    "plt.tight_layout()"
   ]
  },
  {
   "cell_type": "markdown",
   "metadata": {},
   "source": [
    "## Plot pixel values distribution\n",
    "\n"
   ]
  },
  {
   "cell_type": "code",
   "execution_count": null,
   "metadata": {
    "execution": {
     "iopub.execute_input": "2023-12-30T09:40:04.769699Z",
     "iopub.status.busy": "2023-12-30T09:40:04.769256Z",
     "iopub.status.idle": "2023-12-30T09:40:05.364658Z",
     "shell.execute_reply": "2023-12-30T09:40:05.363676Z",
     "shell.execute_reply.started": "2023-12-30T09:40:04.769657Z"
    }
   },
   "outputs": [],
   "source": [
    "plt.figure(2, figsize=(6.4, 5))\n",
    "\n",
    "plt.subplot(1, 2, 1)\n",
    "plt.scatter(Xs[:, 0], Xs[:, 2], c=Xs)\n",
    "plt.axis([0, 1, 0, 1])\n",
    "plt.xlabel('Red')\n",
    "plt.ylabel('Blue')\n",
    "plt.title('Image 1')\n",
    "\n",
    "plt.subplot(1, 2, 2)\n",
    "plt.scatter(Xt[:, 0], Xt[:, 2], c=Xt)\n",
    "plt.axis([0, 1, 0, 1])\n",
    "plt.xlabel('Red')\n",
    "plt.ylabel('Blue')\n",
    "plt.title('Image 2')\n",
    "plt.tight_layout()"
   ]
  },
  {
   "cell_type": "markdown",
   "metadata": {},
   "source": [
    "## Plot transformed images\n",
    "\n"
   ]
  },
  {
   "cell_type": "code",
   "execution_count": null,
   "metadata": {
    "execution": {
     "iopub.execute_input": "2023-12-30T09:40:06.271835Z",
     "iopub.status.busy": "2023-12-30T09:40:06.271422Z",
     "iopub.status.idle": "2023-12-30T09:40:18.500348Z",
     "shell.execute_reply": "2023-12-30T09:40:18.499359Z",
     "shell.execute_reply.started": "2023-12-30T09:40:06.271802Z"
    }
   },
   "outputs": [],
   "source": [
    "plt.figure(2, figsize=(10, 5))\n",
    "\n",
    "plt.subplot(2, 3, 1)\n",
    "plt.imshow(frames[0])\n",
    "plt.axis('off')\n",
    "plt.title('Im. 1')\n",
    "\n",
    "plt.subplot(2, 3, 4)\n",
    "plt.imshow(img_ref)\n",
    "plt.axis('off')\n",
    "plt.title('Im. 2')\n",
    "\n",
    "plt.subplot(2, 3, 2)\n",
    "plt.imshow(Image_emd)\n",
    "plt.axis('off')\n",
    "plt.title('EmdTransport')\n",
    "\n",
    "plt.subplot(2, 3, 5)\n",
    "plt.imshow(Image_sinkhorn)\n",
    "plt.axis('off')\n",
    "plt.title('SinkhornTransport')\n",
    "\n",
    "plt.subplot(2, 3, 3)\n",
    "plt.imshow(Image_mapping_linear)\n",
    "plt.axis('off')\n",
    "plt.title('MappingTransport (linear)')\n",
    "\n",
    "plt.subplot(2, 3, 6)\n",
    "plt.imshow(Image_mapping_gaussian)\n",
    "plt.axis('off')\n",
    "plt.title('MappingTransport (gaussian)')\n",
    "plt.tight_layout()\n",
    "\n",
    "plt.show()"
   ]
  },
  {
   "cell_type": "code",
   "execution_count": null,
   "metadata": {
    "execution": {
     "iopub.execute_input": "2023-12-30T09:47:40.483645Z",
     "iopub.status.busy": "2023-12-30T09:47:40.483126Z",
     "iopub.status.idle": "2023-12-30T09:55:30.835937Z",
     "shell.execute_reply": "2023-12-30T09:55:30.834676Z",
     "shell.execute_reply.started": "2023-12-30T09:47:40.483606Z"
    }
   },
   "outputs": [],
   "source": [
    "X1 = im2mat(frames[200].astype(np.float64)/256)\n",
    "\n",
    "transp_Xs_emd = ot_emd.transform(Xs=X1)\n",
    "Image_emd_200 = minmax(mat2im(transp_Xs_emd, frames[200].shape))\n",
    "\n",
    "\n",
    "transp_Xs_sinkhorn = ot_sinkhorn.transform(Xs=X1)\n",
    "Image_sinkhorn_200 = minmax(mat2im(transp_Xs_sinkhorn, frames[200].shape))\n",
    "\n",
    "\n",
    "X1tl = ot_mapping_linear.transform(Xs=X1)\n",
    "Image_mapping_linear = minmax(mat2im(X1tl, frames[200].shape))\n",
    "\n",
    "X1tn = ot_mapping_gaussian.transform(Xs=X1)  # use the estimated mapping\n",
    "Image_mapping_gaussian = minmax(mat2im(X1tn, frames[200].shape))"
   ]
  },
  {
   "cell_type": "code",
   "execution_count": null,
   "metadata": {
    "execution": {
     "iopub.execute_input": "2023-12-30T10:10:59.571794Z",
     "iopub.status.busy": "2023-12-30T10:10:59.571318Z",
     "iopub.status.idle": "2023-12-30T10:11:11.872272Z",
     "shell.execute_reply": "2023-12-30T10:11:11.871195Z",
     "shell.execute_reply.started": "2023-12-30T10:10:59.571758Z"
    }
   },
   "outputs": [],
   "source": [
    "plt.figure(2, figsize=(10, 5))\n",
    "\n",
    "plt.subplot(2, 3, 1)\n",
    "plt.imshow(frames[0])\n",
    "plt.axis('off')\n",
    "plt.title('Im. 1')\n",
    "\n",
    "plt.subplot(2, 3, 4)\n",
    "plt.imshow(img_ref)\n",
    "plt.axis('off')\n",
    "plt.title('Im. 2')\n",
    "\n",
    "plt.subplot(2, 3, 2)\n",
    "plt.imshow(Image_emd_200)\n",
    "plt.axis('off')\n",
    "plt.title('EmdTransport')\n",
    "\n",
    "plt.subplot(2, 3, 5)\n",
    "plt.imshow(Image_sinkhorn_200)\n",
    "plt.axis('off')\n",
    "plt.title('SinkhornTransport')\n",
    "\n",
    "plt.subplot(2, 3, 3)\n",
    "plt.imshow(Image_mapping_linear)\n",
    "plt.axis('off')\n",
    "plt.title('MappingTransport (linear)')\n",
    "\n",
    "plt.subplot(2, 3, 6)\n",
    "plt.imshow(Image_mapping_gaussian)\n",
    "plt.axis('off')\n",
    "plt.title('MappingTransport (gaussian)')\n",
    "plt.tight_layout()\n",
    "\n",
    "plt.show()"
   ]
  },
  {
   "cell_type": "code",
   "execution_count": null,
   "metadata": {},
   "outputs": [],
   "source": []
  }
 ],
 "metadata": {
  "kaggle": {
   "accelerator": "none",
   "dataSources": [
    {
     "datasetId": 4299453,
     "sourceId": 7395077,
     "sourceType": "datasetVersion"
    }
   ],
   "dockerImageVersionId": 30626,
   "isGpuEnabled": false,
   "isInternetEnabled": true,
   "language": "python",
   "sourceType": "notebook"
  },
  "kernelspec": {
   "display_name": "Python 3 (ipykernel)",
   "language": "python",
   "name": "python3"
  },
  "language_info": {
   "codemirror_mode": {
    "name": "ipython",
    "version": 3
   },
   "file_extension": ".py",
   "mimetype": "text/x-python",
   "name": "python",
   "nbconvert_exporter": "python",
   "pygments_lexer": "ipython3",
   "version": "3.11.5"
  }
 },
 "nbformat": 4,
 "nbformat_minor": 4
}
